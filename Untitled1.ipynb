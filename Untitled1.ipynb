{
 "cells": [
  {
   "cell_type": "code",
   "execution_count": 72,
   "id": "576fc649-67f0-427b-9bd0-0c90f095d2db",
   "metadata": {},
   "outputs": [],
   "source": [
    "import numpy as np"
   ]
  },
  {
   "cell_type": "code",
   "execution_count": 73,
   "id": "03b0e1b4-e8e9-4332-acc2-d011b67cd982",
   "metadata": {},
   "outputs": [],
   "source": [
    "import pandas as pd"
   ]
  },
  {
   "cell_type": "code",
   "execution_count": 74,
   "id": "437ae7cf-714d-461b-acb1-3d09ffd65679",
   "metadata": {},
   "outputs": [],
   "source": [
    "s = pd.Series(np.random.randn(5), index=[\"a\", \"b\", \"c\", \"d\", \"e\"])"
   ]
  },
  {
   "cell_type": "code",
   "execution_count": 75,
   "id": "d10e4271-b218-4636-af9b-2ce78d5d8d4f",
   "metadata": {},
   "outputs": [
    {
     "data": {
      "text/plain": [
       "a    0.471629\n",
       "b   -1.603315\n",
       "c    1.174845\n",
       "d    0.705733\n",
       "e    0.054049\n",
       "dtype: float64"
      ]
     },
     "execution_count": 75,
     "metadata": {},
     "output_type": "execute_result"
    }
   ],
   "source": [
    "s"
   ]
  },
  {
   "cell_type": "code",
   "execution_count": 76,
   "id": "15b23f8a-7318-4acd-a36a-d4b2cfeef1a7",
   "metadata": {},
   "outputs": [
    {
     "data": {
      "text/plain": [
       "Index(['a', 'b', 'c', 'd', 'e'], dtype='object')"
      ]
     },
     "execution_count": 76,
     "metadata": {},
     "output_type": "execute_result"
    }
   ],
   "source": [
    "s.index"
   ]
  },
  {
   "cell_type": "code",
   "execution_count": 77,
   "id": "06221887-a5f2-43df-96e3-55186f5d4546",
   "metadata": {},
   "outputs": [
    {
     "data": {
      "text/plain": [
       "0   -0.857697\n",
       "1   -0.304754\n",
       "2    1.657871\n",
       "3   -0.579552\n",
       "4    0.339097\n",
       "dtype: float64"
      ]
     },
     "execution_count": 77,
     "metadata": {},
     "output_type": "execute_result"
    }
   ],
   "source": [
    "pd.Series(np.random.randn(5))"
   ]
  },
  {
   "cell_type": "code",
   "execution_count": 78,
   "id": "3d06df0b-5519-4a0a-9a1f-e514184bd4a0",
   "metadata": {},
   "outputs": [
    {
     "data": {
      "text/html": [
       "<style type=\"text/css\">\n",
       "</style>\n",
       "<table id=\"T_bc6ab\">\n",
       "  <thead>\n",
       "    <tr>\n",
       "      <th class=\"blank level0\" >&nbsp;</th>\n",
       "      <th id=\"T_bc6ab_level0_col0\" class=\"col_heading level0 col0\" >STRINGS</th>\n",
       "      <th id=\"T_bc6ab_level0_col1\" class=\"col_heading level0 col1\" >INTS</th>\n",
       "      <th id=\"T_bc6ab_level0_col2\" class=\"col_heading level0 col2\" >FLOATS</th>\n",
       "    </tr>\n",
       "  </thead>\n",
       "  <tbody>\n",
       "    <tr>\n",
       "      <th id=\"T_bc6ab_level0_row0\" class=\"row_heading level0 row0\" >row 1</th>\n",
       "      <td id=\"T_bc6ab_row0_col0\" class=\"data row0 col0\" >Adam</td>\n",
       "      <td id=\"T_bc6ab_row0_col1\" class=\"data row0 col1\" >1</td>\n",
       "      <td id=\"T_bc6ab_row0_col2\" class=\"data row0 col2\" >1,123</td>\n",
       "    </tr>\n",
       "    <tr>\n",
       "      <th id=\"T_bc6ab_level0_row1\" class=\"row_heading level0 row1\" >row 2</th>\n",
       "      <td id=\"T_bc6ab_row1_col0\" class=\"data row1 col0\" >Mike</td>\n",
       "      <td id=\"T_bc6ab_row1_col1\" class=\"data row1 col1\" >3</td>\n",
       "      <td id=\"T_bc6ab_row1_col2\" class=\"data row1 col2\" >1.000,230</td>\n",
       "    </tr>\n",
       "  </tbody>\n",
       "</table>\n"
      ],
      "text/plain": [
       "<pandas.io.formats.style.Styler at 0x24c85f8a3c0>"
      ]
     },
     "execution_count": 78,
     "metadata": {},
     "output_type": "execute_result"
    }
   ],
   "source": [
    "import pandas as pd\n",
    "import numpy as np\n",
    "import matplotlib as mpl\n",
    "\n",
    "df = pd.DataFrame({\n",
    "    \"strings\": [\"Adam\", \"Mike\"],\n",
    "    \"ints\": [1, 3],\n",
    "    \"floats\": [1.123, 1000.23]\n",
    "})\n",
    "df.style \\\n",
    "  .format(precision=3, thousands=\".\", decimal=\",\") \\\n",
    "  .format_index(str.upper, axis=1) \\\n",
    "  .relabel_index([\"row 1\", \"row 2\"], axis=0)"
   ]
  },
  {
   "cell_type": "code",
   "execution_count": 79,
   "id": "1618b617-3c7e-45d1-9dad-70c151291e01",
   "metadata": {},
   "outputs": [
    {
     "data": {
      "text/html": [
       "<div>\n",
       "<style scoped>\n",
       "    .dataframe tbody tr th:only-of-type {\n",
       "        vertical-align: middle;\n",
       "    }\n",
       "\n",
       "    .dataframe tbody tr th {\n",
       "        vertical-align: top;\n",
       "    }\n",
       "\n",
       "    .dataframe thead th {\n",
       "        text-align: right;\n",
       "    }\n",
       "</style>\n",
       "<table border=\"1\" class=\"dataframe\">\n",
       "  <thead>\n",
       "    <tr style=\"text-align: right;\">\n",
       "      <th></th>\n",
       "      <th>Tokyo</th>\n",
       "      <th>Beijing</th>\n",
       "    </tr>\n",
       "  </thead>\n",
       "  <tbody>\n",
       "    <tr>\n",
       "      <th>2021-01-01</th>\n",
       "      <td>1.404582</td>\n",
       "      <td>0.924440</td>\n",
       "    </tr>\n",
       "    <tr>\n",
       "      <th>2021-01-02</th>\n",
       "      <td>1.233062</td>\n",
       "      <td>2.791815</td>\n",
       "    </tr>\n",
       "    <tr>\n",
       "      <th>2021-01-03</th>\n",
       "      <td>2.084048</td>\n",
       "      <td>1.945321</td>\n",
       "    </tr>\n",
       "    <tr>\n",
       "      <th>2021-01-04</th>\n",
       "      <td>2.708353</td>\n",
       "      <td>4.084341</td>\n",
       "    </tr>\n",
       "    <tr>\n",
       "      <th>2021-01-05</th>\n",
       "      <td>3.251631</td>\n",
       "      <td>1.271930</td>\n",
       "    </tr>\n",
       "    <tr>\n",
       "      <th>2021-01-06</th>\n",
       "      <td>2.776575</td>\n",
       "      <td>3.562743</td>\n",
       "    </tr>\n",
       "    <tr>\n",
       "      <th>2021-01-07</th>\n",
       "      <td>1.712625</td>\n",
       "      <td>0.201882</td>\n",
       "    </tr>\n",
       "    <tr>\n",
       "      <th>2021-01-08</th>\n",
       "      <td>1.028054</td>\n",
       "      <td>3.244867</td>\n",
       "    </tr>\n",
       "    <tr>\n",
       "      <th>2021-01-09</th>\n",
       "      <td>4.181388</td>\n",
       "      <td>0.691957</td>\n",
       "    </tr>\n",
       "    <tr>\n",
       "      <th>2021-01-10</th>\n",
       "      <td>1.502006</td>\n",
       "      <td>1.418080</td>\n",
       "    </tr>\n",
       "  </tbody>\n",
       "</table>\n",
       "</div>"
      ],
      "text/plain": [
       "               Tokyo   Beijing\n",
       "2021-01-01  1.404582  0.924440\n",
       "2021-01-02  1.233062  2.791815\n",
       "2021-01-03  2.084048  1.945321\n",
       "2021-01-04  2.708353  4.084341\n",
       "2021-01-05  3.251631  1.271930\n",
       "2021-01-06  2.776575  3.562743\n",
       "2021-01-07  1.712625  0.201882\n",
       "2021-01-08  1.028054  3.244867\n",
       "2021-01-09  4.181388  0.691957\n",
       "2021-01-10  1.502006  1.418080"
      ]
     },
     "execution_count": 79,
     "metadata": {},
     "output_type": "execute_result"
    }
   ],
   "source": [
    "weather_df = pd.DataFrame(np.random.rand(10,2)*5,\n",
    "                          index=pd.date_range(start=\"2021-01-01\", periods=10),\n",
    "                          columns=[\"Tokyo\", \"Beijing\"])\n",
    "\n",
    "def rain_condition(v):\n",
    "    if v < 1.75:\n",
    "        return \"Dry\"\n",
    "    elif v < 2.75:\n",
    "        return \"Rain\"\n",
    "    return \"Heavy Rain\"\n",
    "\n",
    "def make_pretty(styler):\n",
    "    styler.set_caption(\"Weather Conditions\")\n",
    "    styler.format(rain_condition)\n",
    "    styler.format_index(lambda v: v.strftime(\"%A\"))\n",
    "    styler.background_gradient(axis=None, vmin=1, vmax=5, cmap=\"YlGnBu\")\n",
    "    return styler\n",
    "\n",
    "weather_df"
   ]
  },
  {
   "cell_type": "code",
   "execution_count": 80,
   "id": "7e1edb44-643a-4e3b-8ca4-d6d842eadeb5",
   "metadata": {},
   "outputs": [
    {
     "data": {
      "text/html": [
       "<style type=\"text/css\">\n",
       "#T_3d6f6_row0_col0 {\n",
       "  background-color: #65c3bf;\n",
       "  color: #000000;\n",
       "}\n",
       "#T_3d6f6_row0_col1 {\n",
       "  background-color: #2356a4;\n",
       "  color: #f1f1f1;\n",
       "}\n",
       "#T_3d6f6_row1_col0 {\n",
       "  background-color: #2ea3c2;\n",
       "  color: #f1f1f1;\n",
       "}\n",
       "#T_3d6f6_row1_col1 {\n",
       "  background-color: #f5fbc4;\n",
       "  color: #000000;\n",
       "}\n",
       "#T_3d6f6_row2_col0 {\n",
       "  background-color: #5dc0c0;\n",
       "  color: #000000;\n",
       "}\n",
       "#T_3d6f6_row2_col1 {\n",
       "  background-color: #1e8abd;\n",
       "  color: #f1f1f1;\n",
       "}\n",
       "#T_3d6f6_row3_col0 {\n",
       "  background-color: #ddf2b2;\n",
       "  color: #000000;\n",
       "}\n",
       "#T_3d6f6_row3_col1 {\n",
       "  background-color: #ffffd9;\n",
       "  color: #000000;\n",
       "}\n",
       "#T_3d6f6_row4_col0 {\n",
       "  background-color: #feffd8;\n",
       "  color: #000000;\n",
       "}\n",
       "#T_3d6f6_row4_col1 {\n",
       "  background-color: #2fa4c2;\n",
       "  color: #f1f1f1;\n",
       "}\n",
       "</style>\n",
       "<table id=\"T_3d6f6\">\n",
       "  <caption>Weather Conditions</caption>\n",
       "  <thead>\n",
       "    <tr>\n",
       "      <th class=\"blank level0\" >&nbsp;</th>\n",
       "      <th id=\"T_3d6f6_level0_col0\" class=\"col_heading level0 col0\" >Tokyo</th>\n",
       "      <th id=\"T_3d6f6_level0_col1\" class=\"col_heading level0 col1\" >Beijing</th>\n",
       "    </tr>\n",
       "  </thead>\n",
       "  <tbody>\n",
       "    <tr>\n",
       "      <th id=\"T_3d6f6_level0_row0\" class=\"row_heading level0 row0\" >Monday</th>\n",
       "      <td id=\"T_3d6f6_row0_col0\" class=\"data row0 col0\" >Rain</td>\n",
       "      <td id=\"T_3d6f6_row0_col1\" class=\"data row0 col1\" >Heavy Rain</td>\n",
       "    </tr>\n",
       "    <tr>\n",
       "      <th id=\"T_3d6f6_level0_row1\" class=\"row_heading level0 row1\" >Tuesday</th>\n",
       "      <td id=\"T_3d6f6_row1_col0\" class=\"data row1 col0\" >Heavy Rain</td>\n",
       "      <td id=\"T_3d6f6_row1_col1\" class=\"data row1 col1\" >Dry</td>\n",
       "    </tr>\n",
       "    <tr>\n",
       "      <th id=\"T_3d6f6_level0_row2\" class=\"row_heading level0 row2\" >Wednesday</th>\n",
       "      <td id=\"T_3d6f6_row2_col0\" class=\"data row2 col0\" >Heavy Rain</td>\n",
       "      <td id=\"T_3d6f6_row2_col1\" class=\"data row2 col1\" >Heavy Rain</td>\n",
       "    </tr>\n",
       "    <tr>\n",
       "      <th id=\"T_3d6f6_level0_row3\" class=\"row_heading level0 row3\" >Thursday</th>\n",
       "      <td id=\"T_3d6f6_row3_col0\" class=\"data row3 col0\" >Dry</td>\n",
       "      <td id=\"T_3d6f6_row3_col1\" class=\"data row3 col1\" >Dry</td>\n",
       "    </tr>\n",
       "    <tr>\n",
       "      <th id=\"T_3d6f6_level0_row4\" class=\"row_heading level0 row4\" >Friday</th>\n",
       "      <td id=\"T_3d6f6_row4_col0\" class=\"data row4 col0\" >Dry</td>\n",
       "      <td id=\"T_3d6f6_row4_col1\" class=\"data row4 col1\" >Heavy Rain</td>\n",
       "    </tr>\n",
       "  </tbody>\n",
       "</table>\n"
      ],
      "text/plain": [
       "<pandas.io.formats.style.Styler at 0x24c85f3dcd0>"
      ]
     },
     "execution_count": 80,
     "metadata": {},
     "output_type": "execute_result"
    }
   ],
   "source": [
    "weather_df.loc[\"2021-01-04\":\"2021-01-08\"].style.pipe(make_pretty)"
   ]
  }
 ],
 "metadata": {
  "kernelspec": {
   "display_name": "Python 3 (ipykernel)",
   "language": "python",
   "name": "python3"
  },
  "language_info": {
   "codemirror_mode": {
    "name": "ipython",
    "version": 3
   },
   "file_extension": ".py",
   "mimetype": "text/x-python",
   "name": "python",
   "nbconvert_exporter": "python",
   "pygments_lexer": "ipython3",
   "version": "3.12.4"
  }
 },
 "nbformat": 4,
 "nbformat_minor": 5
}
