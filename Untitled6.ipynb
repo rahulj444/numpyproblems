{
 "cells": [
  {
   "cell_type": "code",
   "execution_count": 266,
   "id": "17281a83-f983-4e76-a231-a93b9aa54694",
   "metadata": {},
   "outputs": [
    {
     "data": {
      "text/plain": [
       "array([[ 0. ,  0.5],\n",
       "       [ 1. ,  1.5],\n",
       "       [ 2. ,  2.5],\n",
       "       [ 3. ,  3.5],\n",
       "       [ 4. ,  4.5],\n",
       "       [ 5. ,  5.5],\n",
       "       [ 6. ,  6.5],\n",
       "       [ 7. ,  7.5],\n",
       "       [ 8. ,  8.5],\n",
       "       [ 9. ,  9.5],\n",
       "       [10. , 10.5],\n",
       "       [11. , 11.5],\n",
       "       [12. , 12.5],\n",
       "       [13. , 13.5],\n",
       "       [14. , 14.5],\n",
       "       [15. , 15.5],\n",
       "       [16. , 16.5],\n",
       "       [17. , 17.5],\n",
       "       [18. , 18.5],\n",
       "       [19. , 19.5],\n",
       "       [20. , 20.5],\n",
       "       [21. , 21.5],\n",
       "       [22. , 22.5],\n",
       "       [23. , 23.5],\n",
       "       [24. , 24.5],\n",
       "       [25. , 25.5],\n",
       "       [26. , 26.5],\n",
       "       [27. , 27.5],\n",
       "       [28. , 28.5],\n",
       "       [29. , 29.5],\n",
       "       [30. , 30.5],\n",
       "       [31. , 31.5],\n",
       "       [32. , 32.5],\n",
       "       [33. , 33.5],\n",
       "       [34. , 34.5],\n",
       "       [35. , 35.5],\n",
       "       [36. , 36.5],\n",
       "       [37. , 37.5],\n",
       "       [38. , 38.5],\n",
       "       [39. , 39.5],\n",
       "       [40. , 40.5],\n",
       "       [41. , 41.5],\n",
       "       [42. , 42.5],\n",
       "       [43. , 43.5],\n",
       "       [44. , 44.5],\n",
       "       [45. , 45.5],\n",
       "       [46. , 46.5],\n",
       "       [47. , 47.5],\n",
       "       [48. , 48.5],\n",
       "       [49. , 49.5]])"
      ]
     },
     "execution_count": 266,
     "metadata": {},
     "output_type": "execute_result"
    }
   ],
   "source": [
    "import numpy as np\n",
    "import matplolib.pyplot as plt\n",
    "a = np.arange(0,50,0.5).reshape(50, 2)\n",
    "a"
   ]
  },
  {
   "cell_type": "code",
   "execution_count": 267,
   "id": "d41221f1-b869-4331-b62e-0867e025e55e",
   "metadata": {},
   "outputs": [
    {
     "data": {
      "text/plain": [
       "(50, 2)"
      ]
     },
     "execution_count": 267,
     "metadata": {},
     "output_type": "execute_result"
    }
   ],
   "source": [
    "a.shape"
   ]
  },
  {
   "cell_type": "code",
   "execution_count": 268,
   "id": "fc8b6688-5c9b-4002-9ece-12a1ed636fa4",
   "metadata": {},
   "outputs": [
    {
     "data": {
      "text/plain": [
       "2"
      ]
     },
     "execution_count": 268,
     "metadata": {},
     "output_type": "execute_result"
    }
   ],
   "source": [
    "a.ndim"
   ]
  },
  {
   "cell_type": "code",
   "execution_count": 269,
   "id": "140ff260-1024-43e5-b2f2-d21ba47bdf1d",
   "metadata": {},
   "outputs": [
    {
     "data": {
      "text/plain": [
       "dtype('float64')"
      ]
     },
     "execution_count": 269,
     "metadata": {},
     "output_type": "execute_result"
    }
   ],
   "source": [
    "a.dtype"
   ]
  },
  {
   "cell_type": "code",
   "execution_count": 270,
   "id": "64f17ff3-34ab-47ec-9740-7a3d1d972992",
   "metadata": {},
   "outputs": [
    {
     "data": {
      "text/plain": [
       "8"
      ]
     },
     "execution_count": 270,
     "metadata": {},
     "output_type": "execute_result"
    }
   ],
   "source": [
    "a.itemsize"
   ]
  },
  {
   "cell_type": "code",
   "execution_count": 271,
   "id": "23430e58-d3ce-4ca0-be44-107088412c85",
   "metadata": {},
   "outputs": [
    {
     "data": {
      "text/plain": [
       "100"
      ]
     },
     "execution_count": 271,
     "metadata": {},
     "output_type": "execute_result"
    }
   ],
   "source": [
    "a.size"
   ]
  },
  {
   "cell_type": "code",
   "execution_count": 272,
   "id": "73700ab7-063a-41b3-9169-e3ec8b99f073",
   "metadata": {},
   "outputs": [
    {
     "data": {
      "text/plain": [
       "numpy.ndarray"
      ]
     },
     "execution_count": 272,
     "metadata": {},
     "output_type": "execute_result"
    }
   ],
   "source": [
    "type(a)"
   ]
  },
  {
   "cell_type": "code",
   "execution_count": 273,
   "id": "ebf527b8-955a-45f8-88b7-e823315826ce",
   "metadata": {},
   "outputs": [
    {
     "data": {
      "text/plain": [
       "array([6, 7, 8])"
      ]
     },
     "execution_count": 273,
     "metadata": {},
     "output_type": "execute_result"
    }
   ],
   "source": [
    "b = np.array([6, 7, 8])\n",
    "b"
   ]
  },
  {
   "cell_type": "code",
   "execution_count": 274,
   "id": "c835eaf9-bc6f-4142-bd68-21a7faa9058c",
   "metadata": {},
   "outputs": [
    {
     "data": {
      "text/plain": [
       "array([1, 2, 3, 4])"
      ]
     },
     "execution_count": 274,
     "metadata": {},
     "output_type": "execute_result"
    }
   ],
   "source": [
    "a = np.array([1, 2, 3, 4])\n",
    "a"
   ]
  },
  {
   "cell_type": "code",
   "execution_count": 275,
   "id": "ab0b5e8e-24d0-46c0-a306-6c214c2b1897",
   "metadata": {},
   "outputs": [
    {
     "data": {
      "text/plain": [
       "array([[1.+0.j, 2.+0.j],\n",
       "       [2.+0.j, 3.+0.j]])"
      ]
     },
     "execution_count": 275,
     "metadata": {},
     "output_type": "execute_result"
    }
   ],
   "source": [
    "c=np.array([[1,2],[2,3]],dtype=complex)\n",
    "c"
   ]
  },
  {
   "cell_type": "code",
   "execution_count": 276,
   "id": "354cb708-d979-4364-8913-1e4eee97bb44",
   "metadata": {},
   "outputs": [
    {
     "data": {
      "text/plain": [
       "dtype('complex128')"
      ]
     },
     "execution_count": 276,
     "metadata": {},
     "output_type": "execute_result"
    }
   ],
   "source": [
    "c.dtype"
   ]
  },
  {
   "cell_type": "code",
   "execution_count": 277,
   "id": "deb8412f-9e90-44b2-90f7-c8515bc00749",
   "metadata": {},
   "outputs": [
    {
     "data": {
      "text/plain": [
       "array([[0., 0., 0., 0., 0., 0., 0., 0., 0., 0., 0., 0., 0., 0., 0.],\n",
       "       [0., 0., 0., 0., 0., 0., 0., 0., 0., 0., 0., 0., 0., 0., 0.],\n",
       "       [0., 0., 0., 0., 0., 0., 0., 0., 0., 0., 0., 0., 0., 0., 0.],\n",
       "       [0., 0., 0., 0., 0., 0., 0., 0., 0., 0., 0., 0., 0., 0., 0.],\n",
       "       [0., 0., 0., 0., 0., 0., 0., 0., 0., 0., 0., 0., 0., 0., 0.],\n",
       "       [0., 0., 0., 0., 0., 0., 0., 0., 0., 0., 0., 0., 0., 0., 0.],\n",
       "       [0., 0., 0., 0., 0., 0., 0., 0., 0., 0., 0., 0., 0., 0., 0.],\n",
       "       [0., 0., 0., 0., 0., 0., 0., 0., 0., 0., 0., 0., 0., 0., 0.],\n",
       "       [0., 0., 0., 0., 0., 0., 0., 0., 0., 0., 0., 0., 0., 0., 0.],\n",
       "       [0., 0., 0., 0., 0., 0., 0., 0., 0., 0., 0., 0., 0., 0., 0.]])"
      ]
     },
     "execution_count": 277,
     "metadata": {},
     "output_type": "execute_result"
    }
   ],
   "source": [
    "np.zeros((10,15))"
   ]
  },
  {
   "cell_type": "code",
   "execution_count": 278,
   "id": "ef29ef8c-c2d4-4858-9c11-1197fc5ccb6a",
   "metadata": {},
   "outputs": [
    {
     "data": {
      "text/plain": [
       "array([[[1, 1, 1, 1],\n",
       "        [1, 1, 1, 1],\n",
       "        [1, 1, 1, 1]],\n",
       "\n",
       "       [[1, 1, 1, 1],\n",
       "        [1, 1, 1, 1],\n",
       "        [1, 1, 1, 1]],\n",
       "\n",
       "       [[1, 1, 1, 1],\n",
       "        [1, 1, 1, 1],\n",
       "        [1, 1, 1, 1]]], dtype=int16)"
      ]
     },
     "execution_count": 278,
     "metadata": {},
     "output_type": "execute_result"
    }
   ],
   "source": [
    "np.ones((3,3,4),dtype=np.int16)"
   ]
  },
  {
   "cell_type": "code",
   "execution_count": 279,
   "id": "06840cb9-5eb0-4497-9be9-cc82fc389863",
   "metadata": {},
   "outputs": [
    {
     "data": {
      "text/plain": [
       "array([100, 105, 110, 115, 120, 125, 130, 135, 140, 145, 150, 155, 160,\n",
       "       165, 170, 175, 180, 185, 190, 195, 200, 205, 210, 215, 220, 225,\n",
       "       230, 235, 240, 245, 250, 255, 260, 265, 270, 275, 280, 285, 290,\n",
       "       295])"
      ]
     },
     "execution_count": 279,
     "metadata": {},
     "output_type": "execute_result"
    }
   ],
   "source": [
    "np.arange(100,300,5)"
   ]
  },
  {
   "cell_type": "code",
   "execution_count": 280,
   "id": "8c9375f8-9231-48d7-b954-7170886c5be3",
   "metadata": {},
   "outputs": [
    {
     "data": {
      "text/plain": [
       "array([[6.23042070e-307, 4.67296746e-307, 1.69121096e-306],\n",
       "       [1.20160575e-306, 1.89146896e-307, 7.56571288e-307]])"
      ]
     },
     "execution_count": 280,
     "metadata": {},
     "output_type": "execute_result"
    }
   ],
   "source": [
    "np.empty((2,3))"
   ]
  },
  {
   "cell_type": "code",
   "execution_count": 281,
   "id": "4865dbde-c5d4-4635-b7f3-625a0ecb1dfc",
   "metadata": {},
   "outputs": [
    {
     "data": {
      "text/plain": [
       "array([0. , 0.5, 1. , 1.5, 2. , 2.5, 3. , 3.5, 4. , 4.5, 5. , 5.5, 6. ,\n",
       "       6.5, 7. , 7.5, 8. , 8.5, 9. , 9.5])"
      ]
     },
     "execution_count": 281,
     "metadata": {},
     "output_type": "execute_result"
    }
   ],
   "source": [
    "np.arange(0,10,0.5)"
   ]
  },
  {
   "cell_type": "code",
   "execution_count": 282,
   "id": "fa7d9da6-2d49-4438-93c2-7d536f31ec3c",
   "metadata": {},
   "outputs": [
    {
     "data": {
      "text/plain": [
       "array([  0,   1,   2,   3,   4,   5,   6,   7,   8,   9,  10,  11,  12,\n",
       "        13,  14,  15,  16,  17,  18,  19,  20,  21,  22,  23,  24,  25,\n",
       "        26,  27,  28,  29,  30,  31,  32,  33,  34,  35,  36,  37,  38,\n",
       "        39,  40,  41,  42,  43,  44,  45,  46,  47,  48,  49,  50,  51,\n",
       "        52,  53,  54,  55,  56,  57,  58,  59,  60,  61,  62,  63,  64,\n",
       "        65,  66,  67,  68,  69,  70,  71,  72,  73,  74,  75,  76,  77,\n",
       "        78,  79,  80,  81,  82,  83,  84,  85,  86,  87,  88,  89,  90,\n",
       "        91,  92,  93,  94,  95,  96,  97,  98,  99, 100, 101, 102, 103,\n",
       "       104, 105, 106, 107, 108, 109, 110, 111, 112, 113, 114, 115, 116,\n",
       "       117, 118, 119, 120, 121, 122, 123, 124, 125, 126, 127, 128, 129,\n",
       "       130, 131, 132, 133, 134, 135, 136, 137, 138, 139, 140, 141, 142,\n",
       "       143, 144, 145, 146, 147, 148, 149, 150, 151, 152, 153, 154, 155,\n",
       "       156, 157, 158, 159, 160, 161, 162, 163, 164, 165, 166, 167, 168,\n",
       "       169, 170, 171, 172, 173, 174, 175, 176, 177, 178, 179, 180, 181,\n",
       "       182, 183, 184, 185, 186, 187, 188, 189, 190, 191, 192, 193, 194,\n",
       "       195, 196, 197, 198, 199, 200, 201, 202, 203, 204, 205, 206, 207,\n",
       "       208, 209, 210, 211, 212, 213, 214, 215, 216, 217, 218, 219, 220,\n",
       "       221, 222, 223, 224, 225, 226, 227, 228, 229, 230, 231, 232, 233,\n",
       "       234, 235, 236, 237, 238, 239, 240, 241, 242, 243, 244, 245, 246,\n",
       "       247, 248, 249, 250, 251, 252, 253, 254, 255, 256, 257, 258, 259,\n",
       "       260, 261, 262, 263, 264, 265, 266, 267, 268, 269, 270, 271, 272,\n",
       "       273, 274, 275, 276, 277, 278, 279, 280, 281, 282, 283, 284, 285,\n",
       "       286, 287, 288, 289, 290, 291, 292, 293, 294, 295, 296, 297, 298,\n",
       "       299, 300, 301, 302, 303, 304, 305, 306, 307, 308, 309, 310, 311,\n",
       "       312, 313, 314, 315, 316, 317, 318, 319, 320, 321, 322, 323, 324,\n",
       "       325, 326, 327, 328, 329, 330, 331, 332, 333, 334, 335, 336, 337,\n",
       "       338, 339, 340, 341, 342, 343, 344, 345, 346, 347, 348, 349, 350,\n",
       "       351, 352, 353, 354, 355, 356, 357, 358, 359, 360, 361, 362, 363,\n",
       "       364, 365, 366, 367, 368, 369, 370, 371, 372, 373, 374, 375, 376,\n",
       "       377, 378, 379, 380, 381, 382, 383, 384, 385, 386, 387, 388, 389,\n",
       "       390, 391, 392, 393, 394, 395, 396, 397, 398, 399, 400, 401, 402,\n",
       "       403, 404, 405, 406, 407, 408, 409, 410, 411, 412, 413, 414, 415,\n",
       "       416, 417, 418, 419, 420, 421, 422, 423, 424, 425, 426, 427, 428,\n",
       "       429, 430, 431, 432, 433, 434, 435, 436, 437, 438, 439, 440, 441,\n",
       "       442, 443, 444, 445, 446, 447, 448, 449, 450, 451, 452, 453, 454,\n",
       "       455, 456, 457, 458, 459, 460, 461, 462, 463, 464, 465, 466, 467,\n",
       "       468, 469, 470, 471, 472, 473, 474, 475, 476, 477, 478, 479, 480,\n",
       "       481, 482, 483, 484, 485, 486, 487, 488, 489, 490, 491, 492, 493,\n",
       "       494, 495, 496, 497, 498, 499, 500, 501, 502, 503, 504, 505, 506,\n",
       "       507, 508, 509, 510, 511, 512, 513, 514, 515, 516, 517, 518, 519,\n",
       "       520, 521, 522, 523, 524, 525, 526, 527, 528, 529, 530, 531, 532,\n",
       "       533, 534, 535, 536, 537, 538, 539, 540, 541, 542, 543, 544, 545,\n",
       "       546, 547, 548, 549, 550, 551, 552, 553, 554, 555, 556, 557, 558,\n",
       "       559, 560, 561, 562, 563, 564, 565, 566, 567, 568, 569, 570, 571,\n",
       "       572, 573, 574, 575, 576, 577, 578, 579, 580, 581, 582, 583, 584,\n",
       "       585, 586, 587, 588, 589, 590, 591, 592, 593, 594, 595, 596, 597,\n",
       "       598, 599, 600, 601, 602, 603, 604, 605, 606, 607, 608, 609, 610,\n",
       "       611, 612, 613, 614, 615, 616, 617, 618, 619, 620, 621, 622, 623,\n",
       "       624, 625, 626, 627, 628, 629, 630, 631, 632, 633, 634, 635, 636,\n",
       "       637, 638, 639, 640, 641, 642, 643, 644, 645, 646, 647, 648, 649,\n",
       "       650, 651, 652, 653, 654, 655, 656, 657, 658, 659, 660, 661, 662,\n",
       "       663, 664, 665, 666, 667, 668, 669, 670, 671, 672, 673, 674, 675,\n",
       "       676, 677, 678, 679, 680, 681, 682, 683, 684, 685, 686, 687, 688,\n",
       "       689, 690, 691, 692, 693, 694, 695, 696, 697, 698, 699, 700, 701,\n",
       "       702, 703, 704, 705, 706, 707, 708, 709, 710, 711, 712, 713, 714,\n",
       "       715, 716, 717, 718, 719, 720, 721, 722, 723, 724, 725, 726, 727,\n",
       "       728, 729, 730, 731, 732, 733, 734, 735, 736, 737, 738, 739, 740,\n",
       "       741, 742, 743, 744, 745, 746, 747, 748, 749, 750, 751, 752, 753,\n",
       "       754, 755, 756, 757, 758, 759, 760, 761, 762, 763, 764, 765, 766,\n",
       "       767, 768, 769, 770, 771, 772, 773, 774, 775, 776, 777, 778, 779,\n",
       "       780, 781, 782, 783, 784, 785, 786, 787, 788, 789, 790, 791, 792,\n",
       "       793, 794, 795, 796, 797, 798, 799, 800, 801, 802, 803, 804, 805,\n",
       "       806, 807, 808, 809, 810, 811, 812, 813, 814, 815, 816, 817, 818,\n",
       "       819, 820, 821, 822, 823, 824, 825, 826, 827, 828, 829, 830, 831,\n",
       "       832, 833, 834, 835, 836, 837, 838, 839, 840, 841, 842, 843, 844,\n",
       "       845, 846, 847, 848, 849, 850, 851, 852, 853, 854, 855, 856, 857,\n",
       "       858, 859, 860, 861, 862, 863, 864, 865, 866, 867, 868, 869, 870,\n",
       "       871, 872, 873, 874, 875, 876, 877, 878, 879, 880, 881, 882, 883,\n",
       "       884, 885, 886, 887, 888, 889, 890, 891, 892, 893, 894, 895, 896,\n",
       "       897, 898, 899, 900, 901, 902, 903, 904, 905, 906, 907, 908, 909,\n",
       "       910, 911, 912, 913, 914, 915, 916, 917, 918, 919, 920, 921, 922,\n",
       "       923, 924, 925, 926, 927, 928, 929, 930, 931, 932, 933, 934, 935,\n",
       "       936, 937, 938, 939, 940, 941, 942, 943, 944, 945, 946, 947, 948,\n",
       "       949, 950, 951, 952, 953, 954, 955, 956, 957, 958, 959, 960, 961,\n",
       "       962, 963, 964, 965, 966, 967, 968, 969, 970, 971, 972, 973, 974,\n",
       "       975, 976, 977, 978, 979, 980, 981, 982, 983, 984, 985, 986, 987,\n",
       "       988, 989, 990, 991, 992, 993, 994, 995, 996, 997, 998, 999])"
      ]
     },
     "execution_count": 282,
     "metadata": {},
     "output_type": "execute_result"
    }
   ],
   "source": [
    "k=np.arange(1000)\n",
    "k"
   ]
  },
  {
   "cell_type": "code",
   "execution_count": 283,
   "id": "06518260-8d06-4c00-998e-298e56517e9d",
   "metadata": {},
   "outputs": [
    {
     "data": {
      "text/plain": [
       "array([[[   0,    1,    2, ...,   97,   98,   99],\n",
       "        [ 100,  101,  102, ...,  197,  198,  199],\n",
       "        [ 200,  201,  202, ...,  297,  298,  299],\n",
       "        ...,\n",
       "        [ 700,  701,  702, ...,  797,  798,  799],\n",
       "        [ 800,  801,  802, ...,  897,  898,  899],\n",
       "        [ 900,  901,  902, ...,  997,  998,  999]],\n",
       "\n",
       "       [[1000, 1001, 1002, ..., 1097, 1098, 1099],\n",
       "        [1100, 1101, 1102, ..., 1197, 1198, 1199],\n",
       "        [1200, 1201, 1202, ..., 1297, 1298, 1299],\n",
       "        ...,\n",
       "        [1700, 1701, 1702, ..., 1797, 1798, 1799],\n",
       "        [1800, 1801, 1802, ..., 1897, 1898, 1899],\n",
       "        [1900, 1901, 1902, ..., 1997, 1998, 1999]],\n",
       "\n",
       "       [[2000, 2001, 2002, ..., 2097, 2098, 2099],\n",
       "        [2100, 2101, 2102, ..., 2197, 2198, 2199],\n",
       "        [2200, 2201, 2202, ..., 2297, 2298, 2299],\n",
       "        ...,\n",
       "        [2700, 2701, 2702, ..., 2797, 2798, 2799],\n",
       "        [2800, 2801, 2802, ..., 2897, 2898, 2899],\n",
       "        [2900, 2901, 2902, ..., 2997, 2998, 2999]],\n",
       "\n",
       "       ...,\n",
       "\n",
       "       [[7000, 7001, 7002, ..., 7097, 7098, 7099],\n",
       "        [7100, 7101, 7102, ..., 7197, 7198, 7199],\n",
       "        [7200, 7201, 7202, ..., 7297, 7298, 7299],\n",
       "        ...,\n",
       "        [7700, 7701, 7702, ..., 7797, 7798, 7799],\n",
       "        [7800, 7801, 7802, ..., 7897, 7898, 7899],\n",
       "        [7900, 7901, 7902, ..., 7997, 7998, 7999]],\n",
       "\n",
       "       [[8000, 8001, 8002, ..., 8097, 8098, 8099],\n",
       "        [8100, 8101, 8102, ..., 8197, 8198, 8199],\n",
       "        [8200, 8201, 8202, ..., 8297, 8298, 8299],\n",
       "        ...,\n",
       "        [8700, 8701, 8702, ..., 8797, 8798, 8799],\n",
       "        [8800, 8801, 8802, ..., 8897, 8898, 8899],\n",
       "        [8900, 8901, 8902, ..., 8997, 8998, 8999]],\n",
       "\n",
       "       [[9000, 9001, 9002, ..., 9097, 9098, 9099],\n",
       "        [9100, 9101, 9102, ..., 9197, 9198, 9199],\n",
       "        [9200, 9201, 9202, ..., 9297, 9298, 9299],\n",
       "        ...,\n",
       "        [9700, 9701, 9702, ..., 9797, 9798, 9799],\n",
       "        [9800, 9801, 9802, ..., 9897, 9898, 9899],\n",
       "        [9900, 9901, 9902, ..., 9997, 9998, 9999]]])"
      ]
     },
     "execution_count": 283,
     "metadata": {},
     "output_type": "execute_result"
    }
   ],
   "source": [
    "np.arange(10000).reshape(10,10,100)\n"
   ]
  },
  {
   "cell_type": "code",
   "execution_count": 284,
   "id": "d977e21d-1ee0-4ac2-90b5-b41e103fd191",
   "metadata": {},
   "outputs": [
    {
     "data": {
      "text/plain": [
       "array([ 0,  1,  2,  3,  4,  5,  6,  7,  8,  9, 10, 11, 12, 13, 14, 15, 16,\n",
       "       17, 18, 19, 20, 21, 22, 23, 24, 25, 26, 27, 28, 29, 30, 31, 32, 33,\n",
       "       34, 35, 36, 37, 38, 39, 40, 41, 42, 43, 44, 45, 46, 47, 48, 49, 50,\n",
       "       51, 52, 53, 54, 55, 56, 57, 58, 59, 60, 61, 62, 63, 64, 65, 66, 67,\n",
       "       68, 69, 70, 71, 72, 73, 74, 75, 76, 77, 78, 79, 80, 81, 82, 83, 84,\n",
       "       85, 86, 87, 88, 89, 90, 91, 92, 93, 94, 95, 96, 97, 98, 99])"
      ]
     },
     "execution_count": 284,
     "metadata": {},
     "output_type": "execute_result"
    }
   ],
   "source": [
    "k=np.array([i for i in range(100)])\n",
    "k"
   ]
  },
  {
   "cell_type": "code",
   "execution_count": 285,
   "id": "bf23bf5a-b998-4184-b1c2-a9d0a13bf3e8",
   "metadata": {},
   "outputs": [
    {
     "data": {
      "text/plain": [
       "4950"
      ]
     },
     "execution_count": 285,
     "metadata": {},
     "output_type": "execute_result"
    }
   ],
   "source": [
    "sum(k)"
   ]
  },
  {
   "cell_type": "code",
   "execution_count": 286,
   "id": "feef47df-a63c-48e3-9d83-b596766612b8",
   "metadata": {},
   "outputs": [
    {
     "data": {
      "text/plain": [
       "array([[ 60,  70],\n",
       "       [160, 195]])"
      ]
     },
     "execution_count": 286,
     "metadata": {},
     "output_type": "execute_result"
    }
   ],
   "source": [
    "m=np.array([i for i in range(10)]).reshape(2,5)\n",
    "n=np.array([i for i in range(10)]).reshape(5,2)\n",
    "m@n"
   ]
  },
  {
   "cell_type": "code",
   "execution_count": 287,
   "id": "cd3fa4ea-1603-4c8c-84b5-58e74077f731",
   "metadata": {},
   "outputs": [
    {
     "data": {
      "text/plain": [
       "array([[ 60,  70],\n",
       "       [160, 195]])"
      ]
     },
     "execution_count": 287,
     "metadata": {},
     "output_type": "execute_result"
    }
   ],
   "source": [
    "m.dot(n)"
   ]
  },
  {
   "cell_type": "code",
   "execution_count": 288,
   "id": "81a2a125-2c71-4881-a9b2-fef517d3c66d",
   "metadata": {},
   "outputs": [
    {
     "data": {
      "text/plain": [
       "10"
      ]
     },
     "execution_count": 288,
     "metadata": {},
     "output_type": "execute_result"
    }
   ],
   "source": [
    "a.sum()\n"
   ]
  },
  {
   "cell_type": "code",
   "execution_count": 289,
   "id": "83906fcb-3745-4b76-8ba5-2f9095e978a5",
   "metadata": {},
   "outputs": [
    {
     "data": {
      "text/plain": [
       "1"
      ]
     },
     "execution_count": 289,
     "metadata": {},
     "output_type": "execute_result"
    }
   ],
   "source": [
    "a.min()\n"
   ]
  },
  {
   "cell_type": "code",
   "execution_count": 290,
   "id": "f0749546-f6cb-4904-b75e-07e1165656b9",
   "metadata": {},
   "outputs": [
    {
     "data": {
      "text/plain": [
       "4"
      ]
     },
     "execution_count": 290,
     "metadata": {},
     "output_type": "execute_result"
    }
   ],
   "source": [
    "a.max()"
   ]
  },
  {
   "cell_type": "code",
   "execution_count": 319,
   "id": "fd46266f-60ef-454d-8c31-c5ac71ee2b07",
   "metadata": {},
   "outputs": [
    {
     "data": {
      "text/plain": [
       "array([1.        , 1.41421356, 1.73205081, 2.        ])"
      ]
     },
     "execution_count": 319,
     "metadata": {},
     "output_type": "execute_result"
    }
   ],
   "source": [
    "np.sqrt(a)"
   ]
  },
  {
   "cell_type": "code",
   "execution_count": 325,
   "id": "bdb27f60-34d9-4b00-8781-e50e7eb82f4f",
   "metadata": {},
   "outputs": [
    {
     "data": {
      "text/plain": [
       "True"
      ]
     },
     "execution_count": 325,
     "metadata": {},
     "output_type": "execute_result"
    }
   ],
   "source": [
    "a.mean()\n"
   ]
  },
  {
   "cell_type": "code",
   "execution_count": 327,
   "id": "61eff884-858d-4a78-9684-85dfea82b237",
   "metadata": {},
   "outputs": [
    {
     "data": {
      "text/plain": [
       "True"
      ]
     },
     "execution_count": 327,
     "metadata": {},
     "output_type": "execute_result"
    }
   ],
   "source": [
    "a.all()"
   ]
  },
  {
   "cell_type": "code",
   "execution_count": 329,
   "id": "5351cdd2-f673-4633-864d-635efdee1b83",
   "metadata": {},
   "outputs": [
    {
     "data": {
      "text/plain": [
       "(array([1, 2, 3, 4]), <function any(iterable, /)>)"
      ]
     },
     "execution_count": 329,
     "metadata": {},
     "output_type": "execute_result"
    }
   ],
   "source": [
    "a,any"
   ]
  },
  {
   "cell_type": "code",
   "execution_count": 333,
   "id": "2c5e5977-aae5-4793-8045-82cb05bb86c3",
   "metadata": {},
   "outputs": [
    {
     "data": {
      "text/plain": [
       "<function ndarray.argmax>"
      ]
     },
     "execution_count": 333,
     "metadata": {},
     "output_type": "execute_result"
    }
   ],
   "source": [
    "a.argmax"
   ]
  },
  {
   "cell_type": "code",
   "execution_count": 349,
   "id": "6954168e-5f3b-472e-ab47-880f5ba89711",
   "metadata": {},
   "outputs": [
    {
     "data": {
      "text/plain": [
       "array([3, 4])"
      ]
     },
     "execution_count": 349,
     "metadata": {},
     "output_type": "execute_result"
    }
   ],
   "source": [
    "a[2:5]"
   ]
  },
  {
   "cell_type": "code",
   "execution_count": 351,
   "id": "c86efb64-5d8e-4f4c-9c7b-210bdb988715",
   "metadata": {},
   "outputs": [
    {
     "data": {
      "text/plain": [
       "array([ 0,  1,  2,  3,  4,  5,  6,  7,  8,  9, 10, 11, 12, 13, 14, 15, 16,\n",
       "       17, 18, 19, 20, 21, 22, 23, 24, 25, 26, 27, 28, 29, 30, 31, 32, 33,\n",
       "       34, 35, 36, 37, 38, 39, 40, 41, 42, 43, 44, 45, 46, 47, 48, 49, 50,\n",
       "       51, 52, 53, 54, 55, 56, 57, 58, 59, 60, 61, 62, 63, 64, 65, 66, 67,\n",
       "       68, 69, 70, 71, 72, 73, 74, 75, 76, 77, 78, 79, 80, 81, 82, 83, 84,\n",
       "       85, 86, 87, 88, 89, 90, 91, 92, 93, 94, 95, 96, 97, 98, 99])"
      ]
     },
     "execution_count": 351,
     "metadata": {},
     "output_type": "execute_result"
    }
   ],
   "source": [
    "lm=np.array([i for i in range(100)])\n",
    "lm"
   ]
  },
  {
   "cell_type": "code",
   "execution_count": 353,
   "id": "c2fd0c44-346e-4eba-8a88-81eded8923e1",
   "metadata": {},
   "outputs": [
    {
     "data": {
      "text/plain": [
       "array([10, 11, 12, 13, 14, 15, 16, 17, 18, 19])"
      ]
     },
     "execution_count": 353,
     "metadata": {},
     "output_type": "execute_result"
    }
   ],
   "source": [
    "lm[10:20]"
   ]
  },
  {
   "cell_type": "code",
   "execution_count": 359,
   "id": "50f5b39e-4e98-4642-bd1a-d952ed5cd050",
   "metadata": {},
   "outputs": [
    {
     "data": {
      "text/plain": [
       "array([[[ 0,  1,  2,  3,  4],\n",
       "        [ 5,  6,  7,  8,  9],\n",
       "        [10, 11, 12, 13, 14],\n",
       "        [15, 16, 17, 18, 19],\n",
       "        [20, 21, 22, 23, 24],\n",
       "        [25, 26, 27, 28, 29],\n",
       "        [30, 31, 32, 33, 34],\n",
       "        [35, 36, 37, 38, 39],\n",
       "        [40, 41, 42, 43, 44],\n",
       "        [45, 46, 47, 48, 49]],\n",
       "\n",
       "       [[50, 51, 52, 53, 54],\n",
       "        [55, 56, 57, 58, 59],\n",
       "        [60, 61, 62, 63, 64],\n",
       "        [65, 66, 67, 68, 69],\n",
       "        [70, 71, 72, 73, 74],\n",
       "        [75, 76, 77, 78, 79],\n",
       "        [80, 81, 82, 83, 84],\n",
       "        [85, 86, 87, 88, 89],\n",
       "        [90, 91, 92, 93, 94],\n",
       "        [95, 96, 97, 98, 99]]])"
      ]
     },
     "execution_count": 359,
     "metadata": {},
     "output_type": "execute_result"
    }
   ],
   "source": [
    "lm.reshape(2,10,5)"
   ]
  },
  {
   "cell_type": "code",
   "execution_count": 361,
   "id": "eaa83b67-0b58-4127-bb7c-070e2f0034e7",
   "metadata": {},
   "outputs": [
    {
     "data": {
      "text/plain": [
       "(100,)"
      ]
     },
     "execution_count": 361,
     "metadata": {},
     "output_type": "execute_result"
    }
   ],
   "source": [
    "lm.shape"
   ]
  },
  {
   "cell_type": "code",
   "execution_count": 367,
   "id": "83a63600-dc3b-4272-b55f-67856cdd3be1",
   "metadata": {},
   "outputs": [
    {
     "name": "stdout",
     "output_type": "stream",
     "text": [
      "rahul\n",
      "rahul\n",
      "rahul\n",
      "rahul\n",
      "rahul\n"
     ]
    }
   ],
   "source": [
    "lm=\"rahul\"\n",
    "for i in lm:\n",
    "    print(lm)"
   ]
  },
  {
   "cell_type": "code",
   "execution_count": 369,
   "id": "d5a79ceb-dd48-4e3f-b478-5b06620cb1be",
   "metadata": {},
   "outputs": [
    {
     "name": "stdout",
     "output_type": "stream",
     "text": [
      "6\n",
      "7\n",
      "8\n"
     ]
    }
   ],
   "source": []
  },
  {
   "cell_type": "code",
   "execution_count": 371,
   "id": "69a32ccb-c91b-42dd-9d27-08f61824b080",
   "metadata": {},
   "outputs": [
    {
     "name": "stdout",
     "output_type": "stream",
     "text": [
      "0\n",
      "1\n",
      "2\n",
      "3\n",
      "4\n",
      "5\n",
      "6\n",
      "7\n",
      "8\n",
      "9\n"
     ]
    }
   ],
   "source": [
    "b=np.arange(10)\n",
    "for element in b.flat:\n",
    "    print(element)\n"
   ]
  },
  {
   "cell_type": "code",
   "execution_count": 375,
   "id": "12f7f326-856c-42d2-b440-75018d3a5e21",
   "metadata": {},
   "outputs": [
    {
     "data": {
      "text/plain": [
       "array([[[ 0,  1,  2,  3,  4,  5,  6,  7,  8,  9],\n",
       "        [10, 11, 12, 13, 14, 15, 16, 17, 18, 19],\n",
       "        [20, 21, 22, 23, 24, 25, 26, 27, 28, 29],\n",
       "        [30, 31, 32, 33, 34, 35, 36, 37, 38, 39],\n",
       "        [40, 41, 42, 43, 44, 45, 46, 47, 48, 49]],\n",
       "\n",
       "       [[50, 51, 52, 53, 54, 55, 56, 57, 58, 59],\n",
       "        [60, 61, 62, 63, 64, 65, 66, 67, 68, 69],\n",
       "        [70, 71, 72, 73, 74, 75, 76, 77, 78, 79],\n",
       "        [80, 81, 82, 83, 84, 85, 86, 87, 88, 89],\n",
       "        [90, 91, 92, 93, 94, 95, 96, 97, 98, 99]]])"
      ]
     },
     "execution_count": 375,
     "metadata": {},
     "output_type": "execute_result"
    }
   ],
   "source": [
    "npp=np.array([i for i in range(100)]).reshape(2,5,10)\n",
    "npp"
   ]
  },
  {
   "cell_type": "code",
   "execution_count": 377,
   "id": "c6002227-1b6e-467c-89ee-4d29aad311d6",
   "metadata": {},
   "outputs": [
    {
     "data": {
      "text/plain": [
       "array([[[ 0, 50],\n",
       "        [10, 60],\n",
       "        [20, 70],\n",
       "        [30, 80],\n",
       "        [40, 90]],\n",
       "\n",
       "       [[ 1, 51],\n",
       "        [11, 61],\n",
       "        [21, 71],\n",
       "        [31, 81],\n",
       "        [41, 91]],\n",
       "\n",
       "       [[ 2, 52],\n",
       "        [12, 62],\n",
       "        [22, 72],\n",
       "        [32, 82],\n",
       "        [42, 92]],\n",
       "\n",
       "       [[ 3, 53],\n",
       "        [13, 63],\n",
       "        [23, 73],\n",
       "        [33, 83],\n",
       "        [43, 93]],\n",
       "\n",
       "       [[ 4, 54],\n",
       "        [14, 64],\n",
       "        [24, 74],\n",
       "        [34, 84],\n",
       "        [44, 94]],\n",
       "\n",
       "       [[ 5, 55],\n",
       "        [15, 65],\n",
       "        [25, 75],\n",
       "        [35, 85],\n",
       "        [45, 95]],\n",
       "\n",
       "       [[ 6, 56],\n",
       "        [16, 66],\n",
       "        [26, 76],\n",
       "        [36, 86],\n",
       "        [46, 96]],\n",
       "\n",
       "       [[ 7, 57],\n",
       "        [17, 67],\n",
       "        [27, 77],\n",
       "        [37, 87],\n",
       "        [47, 97]],\n",
       "\n",
       "       [[ 8, 58],\n",
       "        [18, 68],\n",
       "        [28, 78],\n",
       "        [38, 88],\n",
       "        [48, 98]],\n",
       "\n",
       "       [[ 9, 59],\n",
       "        [19, 69],\n",
       "        [29, 79],\n",
       "        [39, 89],\n",
       "        [49, 99]]])"
      ]
     },
     "execution_count": 377,
     "metadata": {},
     "output_type": "execute_result"
    }
   ],
   "source": [
    "npp.T"
   ]
  },
  {
   "cell_type": "code",
   "execution_count": 383,
   "id": "bb794f75-22ca-4a12-9508-4f65f32926d2",
   "metadata": {},
   "outputs": [
    {
     "data": {
      "text/plain": [
       "(2, 5, 10)"
      ]
     },
     "execution_count": 383,
     "metadata": {},
     "output_type": "execute_result"
    }
   ],
   "source": [
    "npp.shape"
   ]
  },
  {
   "cell_type": "code",
   "execution_count": 385,
   "id": "af430bf3-62eb-4dde-bc67-abb02a213312",
   "metadata": {},
   "outputs": [
    {
     "data": {
      "text/plain": [
       "(10, 5, 2)"
      ]
     },
     "execution_count": 385,
     "metadata": {},
     "output_type": "execute_result"
    }
   ],
   "source": [
    "npp.T.shape"
   ]
  },
  {
   "cell_type": "code",
   "execution_count": 397,
   "id": "4f7e6dd1-3a8b-423d-bd15-99be1ac20b87",
   "metadata": {},
   "outputs": [],
   "source": [
    "kil=npp.resize(4,5,5)\n",
    "kil\n"
   ]
  },
  {
   "cell_type": "code",
   "execution_count": 399,
   "id": "680aa282-ffe0-4f7d-bbf7-b2ae3d0b5150",
   "metadata": {},
   "outputs": [
    {
     "name": "stdout",
     "output_type": "stream",
     "text": [
      "rahul\n"
     ]
    }
   ],
   "source": [
    "n=\"rahul\"\n",
    "print(n)"
   ]
  },
  {
   "cell_type": "code",
   "execution_count": 406,
   "id": "6810c9b2-683e-45dc-aa74-a10381d9a213",
   "metadata": {},
   "outputs": [
    {
     "data": {
      "text/plain": [
       "True"
      ]
     },
     "execution_count": 406,
     "metadata": {},
     "output_type": "execute_result"
    }
   ],
   "source": [
    "rj=np.array([i for i in range(100)])\n",
    "mis=rj\n",
    "mis is rj"
   ]
  },
  {
   "cell_type": "code",
   "execution_count": 408,
   "id": "78817697-6106-45d4-a583-ce32cf2fc0d2",
   "metadata": {},
   "outputs": [
    {
     "data": {
      "text/plain": [
       "10.5"
      ]
     },
     "execution_count": 408,
     "metadata": {},
     "output_type": "execute_result"
    }
   ],
   "source": [
    "abs(10.5)"
   ]
  },
  {
   "cell_type": "code",
   "execution_count": 410,
   "id": "14e0eef0-ca3e-4e14-ac1b-08d925855255",
   "metadata": {},
   "outputs": [
    {
     "data": {
      "text/plain": [
       "array([0, 1, 2, 3, 4, 5, 6, 7, 8, 9])"
      ]
     },
     "execution_count": 410,
     "metadata": {},
     "output_type": "execute_result"
    }
   ],
   "source": [
    "array=np.arange(10)\n",
    "array"
   ]
  },
  {
   "cell_type": "code",
   "execution_count": 420,
   "id": "20f73ba0-6df0-495e-9de3-cfb20e1d0ae9",
   "metadata": {},
   "outputs": [
    {
     "data": {
      "text/plain": [
       "55"
      ]
     },
     "execution_count": 420,
     "metadata": {},
     "output_type": "execute_result"
    }
   ],
   "source": [
    "array.sum()+10"
   ]
  },
  {
   "cell_type": "code",
   "execution_count": 426,
   "id": "6f4a893f-0fbd-4ada-b436-42ef62ee53e1",
   "metadata": {},
   "outputs": [
    {
     "data": {
      "text/plain": [
       "9"
      ]
     },
     "execution_count": 426,
     "metadata": {},
     "output_type": "execute_result"
    }
   ],
   "source": [
    "array.min()\n",
    "\n"
   ]
  },
  {
   "cell_type": "code",
   "execution_count": 428,
   "id": "15711c17-76c2-423d-89c5-8486f3606401",
   "metadata": {},
   "outputs": [
    {
     "data": {
      "text/plain": [
       "array([ 0,  1,  4,  9, 16, 25, 36, 49, 64, 81])"
      ]
     },
     "execution_count": 428,
     "metadata": {},
     "output_type": "execute_result"
    }
   ],
   "source": [
    "array**2"
   ]
  },
  {
   "cell_type": "code",
   "execution_count": 436,
   "id": "5f7be656-2771-48a1-b2fe-91201d20ded6",
   "metadata": {},
   "outputs": [
    {
     "data": {
      "text/plain": [
       "array([ 0,  1,  4,  9, 16, 25, 36, 49, 64, 81])"
      ]
     },
     "execution_count": 436,
     "metadata": {},
     "output_type": "execute_result"
    }
   ],
   "source": [
    "np.arange(10)**2"
   ]
  },
  {
   "cell_type": "code",
   "execution_count": 440,
   "id": "bd827a61-0cef-40f4-aa16-1fcbe43fccf6",
   "metadata": {},
   "outputs": [
    {
     "name": "stdout",
     "output_type": "stream",
     "text": [
      "0\n",
      "1\n",
      "4\n",
      "9\n",
      "16\n",
      "25\n",
      "36\n",
      "49\n",
      "64\n",
      "81\n"
     ]
    }
   ],
   "source": [
    "for i in array:\n",
    "    print(i)"
   ]
  },
  {
   "cell_type": "code",
   "execution_count": 7,
   "id": "f16ee11d-3518-44eb-a639-5e6bffc67c96",
   "metadata": {},
   "outputs": [
    {
     "ename": "NameError",
     "evalue": "name 'plt' is not defined",
     "output_type": "error",
     "traceback": [
      "\u001b[1;31m---------------------------------------------------------------------------\u001b[0m",
      "\u001b[1;31mNameError\u001b[0m                                 Traceback (most recent call last)",
      "Cell \u001b[1;32mIn[7], line 1\u001b[0m\n\u001b[1;32m----> 1\u001b[0m plt\u001b[38;5;241m.\u001b[39mplot(x\u001b[38;5;241m=\u001b[39m\u001b[38;5;124m\"\u001b[39m\u001b[38;5;124marray\u001b[39m\u001b[38;5;124m\"\u001b[39m,c\u001b[38;5;241m=\u001b[39m\u001b[38;5;124m\"\u001b[39m\u001b[38;5;124mred\u001b[39m\u001b[38;5;124m\"\u001b[39m)\n\u001b[0;32m      2\u001b[0m plt\u001b[38;5;241m.\u001b[39mlegend()\n\u001b[0;32m      3\u001b[0m plt\u001b[38;5;241m.\u001b[39mshow()\n",
      "\u001b[1;31mNameError\u001b[0m: name 'plt' is not defined"
     ]
    }
   ],
   "source": [
    "plt.plot(x=\"array\",c=\"red\")\n",
    "plt.legend()\n",
    "plt.show()"
   ]
  },
  {
   "cell_type": "code",
   "execution_count": 1,
   "id": "661498b3-96ab-43b3-a305-85b37661619d",
   "metadata": {},
   "outputs": [
    {
     "ename": "NameError",
     "evalue": "name 'np' is not defined",
     "output_type": "error",
     "traceback": [
      "\u001b[1;31m---------------------------------------------------------------------------\u001b[0m",
      "\u001b[1;31mNameError\u001b[0m                                 Traceback (most recent call last)",
      "Cell \u001b[1;32mIn[1], line 1\u001b[0m\n\u001b[1;32m----> 1\u001b[0m klm\u001b[38;5;241m=\u001b[39mnp\u001b[38;5;241m.\u001b[39marange(\u001b[38;5;241m50\u001b[39m)\u001b[38;5;241m.\u001b[39mreshape(\u001b[38;5;241m10\u001b[39m,\u001b[38;5;241m5\u001b[39m)\n\u001b[0;32m      2\u001b[0m klm\n",
      "\u001b[1;31mNameError\u001b[0m: name 'np' is not defined"
     ]
    }
   ],
   "source": [
    "klm=np.arange(50).reshape(10,5)\n",
    "klm"
   ]
  },
  {
   "cell_type": "raw",
   "id": "a3fefd88-59bb-4431-bcbd-255b3c1df8a6",
   "metadata": {},
   "source": [
    "#RAHULJAY BALIJAPALLY"
   ]
  },
  {
   "cell_type": "code",
   "execution_count": 7,
   "id": "e4325d23-71a2-4627-91be-75441fad1b25",
   "metadata": {},
   "outputs": [
    {
     "ename": "NameError",
     "evalue": "name 'np' is not defined",
     "output_type": "error",
     "traceback": [
      "\u001b[1;31m---------------------------------------------------------------------------\u001b[0m",
      "\u001b[1;31mNameError\u001b[0m                                 Traceback (most recent call last)",
      "Cell \u001b[1;32mIn[7], line 1\u001b[0m\n\u001b[1;32m----> 1\u001b[0m a \u001b[38;5;241m=\u001b[39m np\u001b[38;5;241m.\u001b[39marange(\u001b[38;5;241m12\u001b[39m)\u001b[38;5;241m.\u001b[39mreshape(\u001b[38;5;241m3\u001b[39m, \u001b[38;5;241m4\u001b[39m)\n\u001b[0;32m      2\u001b[0m b \u001b[38;5;241m=\u001b[39m a \u001b[38;5;241m>\u001b[39m \u001b[38;5;241m4\u001b[39m\n\u001b[0;32m      3\u001b[0m b\n",
      "\u001b[1;31mNameError\u001b[0m: name 'np' is not defined"
     ]
    }
   ],
   "source": [
    "a = np.arange(12).reshape(3, 4)\n",
    "b = a > 4\n",
    "b  # `b` is a boolean with `a`'s shape"
   ]
  },
  {
   "cell_type": "code",
   "execution_count": null,
   "id": "4a81d704-351a-4767-8b5d-754491808e2c",
   "metadata": {},
   "outputs": [],
   "source": []
  }
 ],
 "metadata": {
  "kernelspec": {
   "display_name": "Python 3 (ipykernel)",
   "language": "python",
   "name": "python3"
  },
  "language_info": {
   "codemirror_mode": {
    "name": "ipython",
    "version": 3
   },
   "file_extension": ".py",
   "mimetype": "text/x-python",
   "name": "python",
   "nbconvert_exporter": "python",
   "pygments_lexer": "ipython3",
   "version": "3.12.4"
  }
 },
 "nbformat": 4,
 "nbformat_minor": 5
}
